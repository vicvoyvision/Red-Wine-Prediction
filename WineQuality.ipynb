{
 "cells": [
  {
   "cell_type": "code",
   "execution_count": 1,
   "metadata": {},
   "outputs": [],
   "source": [
    "import numpy as np\n",
    "import pandas as pd\n",
    "import seaborn as sns\n",
    "import matplotlib.pyplot as plt"
   ]
  },
  {
   "cell_type": "markdown",
   "metadata": {},
   "source": [
    "# Red Wine Dataset"
   ]
  },
  {
   "cell_type": "markdown",
   "metadata": {},
   "source": [
    "Read the file and show the first five entries."
   ]
  },
  {
   "cell_type": "code",
   "execution_count": 2,
   "metadata": {},
   "outputs": [
    {
     "data": {
      "text/html": [
       "<div>\n",
       "<style scoped>\n",
       "    .dataframe tbody tr th:only-of-type {\n",
       "        vertical-align: middle;\n",
       "    }\n",
       "\n",
       "    .dataframe tbody tr th {\n",
       "        vertical-align: top;\n",
       "    }\n",
       "\n",
       "    .dataframe thead th {\n",
       "        text-align: right;\n",
       "    }\n",
       "</style>\n",
       "<table border=\"1\" class=\"dataframe\">\n",
       "  <thead>\n",
       "    <tr style=\"text-align: right;\">\n",
       "      <th></th>\n",
       "      <th>id</th>\n",
       "      <th>fixed acidity</th>\n",
       "      <th>volatile acidity</th>\n",
       "      <th>citric acid</th>\n",
       "      <th>residual sugar</th>\n",
       "      <th>flavonoids</th>\n",
       "      <th>chlorides</th>\n",
       "      <th>free sulfur dioxide</th>\n",
       "      <th>total sulfur dioxide</th>\n",
       "      <th>density</th>\n",
       "      <th>pH</th>\n",
       "      <th>sulphates</th>\n",
       "      <th>alcohol</th>\n",
       "      <th>country</th>\n",
       "      <th>quality</th>\n",
       "    </tr>\n",
       "  </thead>\n",
       "  <tbody>\n",
       "    <tr>\n",
       "      <th>0</th>\n",
       "      <td>1</td>\n",
       "      <td>7.4</td>\n",
       "      <td>0.70</td>\n",
       "      <td>0.00</td>\n",
       "      <td>1.9</td>\n",
       "      <td>0.590</td>\n",
       "      <td>0.076</td>\n",
       "      <td>11.0</td>\n",
       "      <td>34.0</td>\n",
       "      <td>0.9978</td>\n",
       "      <td>3.51</td>\n",
       "      <td>0.56</td>\n",
       "      <td>9.4</td>\n",
       "      <td>UK</td>\n",
       "      <td>5</td>\n",
       "    </tr>\n",
       "    <tr>\n",
       "      <th>1</th>\n",
       "      <td>2</td>\n",
       "      <td>7.8</td>\n",
       "      <td>0.88</td>\n",
       "      <td>0.00</td>\n",
       "      <td>2.6</td>\n",
       "      <td>0.754</td>\n",
       "      <td>0.098</td>\n",
       "      <td>25.0</td>\n",
       "      <td>67.0</td>\n",
       "      <td>0.9968</td>\n",
       "      <td>3.20</td>\n",
       "      <td>0.68</td>\n",
       "      <td>9.8</td>\n",
       "      <td>Italy</td>\n",
       "      <td>5</td>\n",
       "    </tr>\n",
       "    <tr>\n",
       "      <th>2</th>\n",
       "      <td>3</td>\n",
       "      <td>7.8</td>\n",
       "      <td>0.76</td>\n",
       "      <td>0.04</td>\n",
       "      <td>2.3</td>\n",
       "      <td>0.688</td>\n",
       "      <td>0.092</td>\n",
       "      <td>15.0</td>\n",
       "      <td>54.0</td>\n",
       "      <td>0.9970</td>\n",
       "      <td>3.26</td>\n",
       "      <td>0.65</td>\n",
       "      <td>9.8</td>\n",
       "      <td>Italy</td>\n",
       "      <td>5</td>\n",
       "    </tr>\n",
       "    <tr>\n",
       "      <th>3</th>\n",
       "      <td>4</td>\n",
       "      <td>11.2</td>\n",
       "      <td>0.28</td>\n",
       "      <td>0.56</td>\n",
       "      <td>1.9</td>\n",
       "      <td>0.459</td>\n",
       "      <td>0.075</td>\n",
       "      <td>17.0</td>\n",
       "      <td>60.0</td>\n",
       "      <td>0.9980</td>\n",
       "      <td>3.16</td>\n",
       "      <td>0.58</td>\n",
       "      <td>9.8</td>\n",
       "      <td>Spain</td>\n",
       "      <td>6</td>\n",
       "    </tr>\n",
       "    <tr>\n",
       "      <th>4</th>\n",
       "      <td>5</td>\n",
       "      <td>7.4</td>\n",
       "      <td>0.70</td>\n",
       "      <td>0.00</td>\n",
       "      <td>1.9</td>\n",
       "      <td>0.590</td>\n",
       "      <td>0.076</td>\n",
       "      <td>11.0</td>\n",
       "      <td>34.0</td>\n",
       "      <td>0.9978</td>\n",
       "      <td>3.51</td>\n",
       "      <td>0.56</td>\n",
       "      <td>9.4</td>\n",
       "      <td>UK</td>\n",
       "      <td>5</td>\n",
       "    </tr>\n",
       "  </tbody>\n",
       "</table>\n",
       "</div>"
      ],
      "text/plain": [
       "   id  fixed acidity  volatile acidity  citric acid  residual sugar  \\\n",
       "0   1            7.4              0.70         0.00             1.9   \n",
       "1   2            7.8              0.88         0.00             2.6   \n",
       "2   3            7.8              0.76         0.04             2.3   \n",
       "3   4           11.2              0.28         0.56             1.9   \n",
       "4   5            7.4              0.70         0.00             1.9   \n",
       "\n",
       "   flavonoids  chlorides  free sulfur dioxide  total sulfur dioxide  density  \\\n",
       "0       0.590      0.076                 11.0                  34.0   0.9978   \n",
       "1       0.754      0.098                 25.0                  67.0   0.9968   \n",
       "2       0.688      0.092                 15.0                  54.0   0.9970   \n",
       "3       0.459      0.075                 17.0                  60.0   0.9980   \n",
       "4       0.590      0.076                 11.0                  34.0   0.9978   \n",
       "\n",
       "     pH  sulphates  alcohol country  quality  \n",
       "0  3.51       0.56      9.4      UK        5  \n",
       "1  3.20       0.68      9.8   Italy        5  \n",
       "2  3.26       0.65      9.8   Italy        5  \n",
       "3  3.16       0.58      9.8   Spain        6  \n",
       "4  3.51       0.56      9.4      UK        5  "
      ]
     },
     "execution_count": 2,
     "metadata": {},
     "output_type": "execute_result"
    }
   ],
   "source": [
    "df=pd.read_csv('winequality-red-mod.csv')\n",
    "df.head()"
   ]
  },
  {
   "cell_type": "code",
   "execution_count": 3,
   "metadata": {},
   "outputs": [],
   "source": [
    "df.columns = [x.strip().replace(' ','_') for x in df.columns]"
   ]
  },
  {
   "cell_type": "code",
   "execution_count": 4,
   "metadata": {},
   "outputs": [
    {
     "name": "stdout",
     "output_type": "stream",
     "text": [
      "There are 15 features and 1506 entries in the dataset. \n",
      "The features names(columns names)are \n",
      "['id' 'fixed_acidity' 'volatile_acidity' 'citric_acid' 'residual_sugar'\n",
      " 'flavonoids' 'chlorides' 'free_sulfur_dioxide' 'total_sulfur_dioxide'\n",
      " 'density' 'pH' 'sulphates' 'alcohol' 'country' 'quality'] \n"
     ]
    }
   ],
   "source": [
    "print(f'There are {df.shape[1]} features and {df.shape[0]} entries in the dataset. ')\n",
    "print(f'The features names(columns names)are \\n{df.columns.values} ')"
   ]
  },
  {
   "cell_type": "markdown",
   "metadata": {},
   "source": [
    "## detect Missing Values"
   ]
  },
  {
   "cell_type": "markdown",
   "metadata": {},
   "source": [
    "The first method is by seaborn.heatmap. \n",
    "The next single-line code will visualize the location of missing values."
   ]
  },
  {
   "cell_type": "code",
   "execution_count": 5,
   "metadata": {},
   "outputs": [
    {
     "data": {
      "text/plain": [
       "<matplotlib.axes._subplots.AxesSubplot at 0x1cef2a51048>"
      ]
     },
     "execution_count": 5,
     "metadata": {},
     "output_type": "execute_result"
    },
    {
     "data": {
      "image/png": "[encoded data removed]",
      "text/plain": [
       "<Figure size 432x288 with 1 Axes>"
      ]
     },
     "metadata": {},
     "output_type": "display_data"
    }
   ],
   "source": [
    "sns.heatmap(df.isnull(), cbar=False)"
   ]
  },
  {
   "cell_type": "markdown",
   "metadata": {},
   "source": [
    "## Data distribution\n",
    "Check how many unique values does the target feature 'quality' has and how data is distributed among those values?"
   ]
  },
  {
   "cell_type": "code",
   "execution_count": 6,
   "metadata": {},
   "outputs": [
    {
     "data": {
      "text/plain": [
       "array([5, 6, 7, 4, 8, 3], dtype=int64)"
      ]
     },
     "execution_count": 6,
     "metadata": {},
     "output_type": "execute_result"
    }
   ],
   "source": [
    "df['quality'].unique()"
   ]
  },
  {
   "cell_type": "code",
   "execution_count": 7,
   "metadata": {},
   "outputs": [
    {
     "data": {
      "text/plain": [
       "3     10\n",
       "4     54\n",
       "5    644\n",
       "6    586\n",
       "7    195\n",
       "8     17\n",
       "Name: quality, dtype: int64"
      ]
     },
     "execution_count": 7,
     "metadata": {},
     "output_type": "execute_result"
    }
   ],
   "source": [
    "df.quality.value_counts().sort_index()"
   ]
  },
  {
   "cell_type": "code",
   "execution_count": 8,
   "metadata": {},
   "outputs": [
    {
     "data": {
      "text/plain": [
       "<matplotlib.axes._subplots.AxesSubplot at 0x1cef2e13160>"
      ]
     },
     "execution_count": 8,
     "metadata": {},
     "output_type": "execute_result"
    },
    {
     "data": {
      "image/png": "[encoded data removed]",
      "text/plain": [
       "<Figure size 432x288 with 1 Axes>"
      ]
     },
     "metadata": {},
     "output_type": "display_data"
    }
   ],
   "source": [
    "sns.countplot(x='quality', data=df)"
   ]
  },
  {
   "cell_type": "markdown",
   "metadata": {},
   "source": [
    "      bad: 3-4\n",
    "\n",
    "      average: 5-6\n",
    "      \n",
    "      good: 7-10"
   ]
  },
  {
   "cell_type": "code",
   "execution_count": 254,
   "metadata": {},
   "outputs": [
    {
     "data": {
      "text/plain": [
       "\"\\n####or\\nlow = df.loc[df['quality'] < 5].copy()\\nmedium = df.loc[(df['quality'] == 5) | (df['quality'] == 6)].copy()\\nhigh = df.loc[df['quality'] > 6].copy()\\n\\nlow['grade']='low'\\nmedium['grade']='medium'\\nhigh['grade']='high'\\nframes = [low, medium, high]\\nwine=pd.concat(frames)\\n\""
      ]
     },
     "execution_count": 254,
     "metadata": {},
     "output_type": "execute_result"
    }
   ],
   "source": [
    "'''\n",
    "df['grade'] = 'good' # good\n",
    "df.loc[df.quality < 7,'grade'] = 'average' # not good\n",
    "df.loc[df.quality < 5,'grade'] = 'bad' # not good\n",
    "\n",
    "\n",
    "####or\n",
    "low = df.loc[df['quality'] < 5].copy()\n",
    "medium = df.loc[(df['quality'] == 5) | (df['quality'] == 6)].copy()\n",
    "high = df.loc[df['quality'] > 6].copy()\n",
    "\n",
    "low['grade']='low'\n",
    "medium['grade']='medium'\n",
    "high['grade']='high'\n",
    "frames = [low, medium, high]\n",
    "wine=pd.concat(frames)\n",
    "'''"
   ]
  },
  {
   "cell_type": "code",
   "execution_count": 11,
   "metadata": {},
   "outputs": [
    {
     "data": {
      "image/png": "[encoded data removed]",
      "text/plain": [
       "<Figure size 576x576 with 1 Axes>"
      ]
     },
     "metadata": {},
     "output_type": "display_data"
    }
   ],
   "source": [
    "plt.figure(figsize = (8,8))\n",
    "labels = df.quality.value_counts().index\n",
    "plt.pie(df.quality.value_counts(), autopct='%1.1f%%')\n",
    "plt.legend(labels, loc=\"best\")\n",
    "plt.axis('equal')\n",
    "plt.title('Quality Pie Chart')\n",
    "plt.show()\n"
   ]
  },
  {
   "cell_type": "markdown",
   "metadata": {},
   "source": [
    "## Compute pairwise correlation of columns"
   ]
  },
  {
   "cell_type": "code",
   "execution_count": 12,
   "metadata": {},
   "outputs": [
    {
     "data": {
      "text/plain": [
       "quality                 1.000000\n",
       "alcohol                 0.377449\n",
       "sulphates               0.253316\n",
       "citric_acid             0.233458\n",
       "fixed_acidity           0.138583\n",
       "id                      0.073022\n",
       "density                 0.045603\n",
       "residual_sugar          0.016327\n",
       "pH                     -0.018068\n",
       "free_sulfur_dioxide    -0.049119\n",
       "chlorides              -0.085691\n",
       "total_sulfur_dioxide   -0.185431\n",
       "flavonoids             -0.199290\n",
       "volatile_acidity       -0.377123\n",
       "Name: quality, dtype: float64"
      ]
     },
     "execution_count": 12,
     "metadata": {},
     "output_type": "execute_result"
    }
   ],
   "source": [
    "c = df.corr()\n",
    "c['quality'].sort_values(ascending=False)"
   ]
  },
  {
   "cell_type": "markdown",
   "metadata": {},
   "source": [
    "I will use some variables which have maximum corelation with response variable 'quality' in the future analysis."
   ]
  },
  {
   "cell_type": "markdown",
   "metadata": {},
   "source": [
    "## Dealing with Outliers"
   ]
  },
  {
   "cell_type": "code",
   "execution_count": 257,
   "metadata": {},
   "outputs": [],
   "source": [
    "# First way to deal with outlier is delete them\n",
    "#df.drop(df.loc[ (df['alcohol']<=5) | (df['alcohol']>16) ].index,inplace=True)\n",
    "    "
   ]
  },
  {
   "cell_type": "markdown",
   "metadata": {},
   "source": [
    "Outlier refers to a set of measured values with a deviation of more than two standard deviations from the mean, and a deviation of more than three standard deviations from the mean, which is called a highly abnormal outlier.\n"
   ]
  },
  {
   "cell_type": "code",
   "execution_count": 258,
   "metadata": {},
   "outputs": [
    {
     "data": {
      "text/plain": [
       "'\\ndf[\\'mean\\']=df.groupby(\"grade\")[\\'alcohol\\'].transform(\\'mean\\')\\ndf[\\'std\\']=df.groupby(\"grade\")[\\'alcohol\\'].transform(\\'std\\')\\n#abs(x1-x.mean)>2*x.std\\ndf[\\'alcohol\\']=df.apply(lambda x: x[\\'mean\\'] if abs( x[\\'alcohol\\']-x[\\'mean\\']) >2*x[\\'std\\'] else x[\\'alcohol\\'],axis=1)\\ndf.drop(columns=[\\'mean\\', \\'std\\'],inplace=True)\\n'"
      ]
     },
     "execution_count": 258,
     "metadata": {},
     "output_type": "execute_result"
    }
   ],
   "source": [
    "'''\n",
    "df['mean']=df.groupby(\"grade\")['alcohol'].transform('mean')\n",
    "df['std']=df.groupby(\"grade\")['alcohol'].transform('std')\n",
    "#abs(x1-x.mean)>2*x.std\n",
    "df['alcohol']=df.apply(lambda x: x['mean'] if abs( x['alcohol']-x['mean']) >2*x['std'] else x['alcohol'],axis=1)\n",
    "df.drop(columns=['mean', 'std'],inplace=True)\n",
    "'''"
   ]
  },
  {
   "cell_type": "code",
   "execution_count": 23,
   "metadata": {},
   "outputs": [],
   "source": [
    "def if_outlier(df,col_name):\n",
    "    \n",
    "    #If the deviation between the measured value and the mean is more than two standard deviations,\n",
    "    #the measured value is an outlier and is replaced by the average within the group.\n",
    "    df['mean']=df.groupby('quality')[col_name].transform('mean')\n",
    "    df['std']=df.groupby('quality')[col_name].transform('std')\n",
    "    #abs(x1-x.mean)>2*x.std\n",
    "    df[col_name]=df.apply(lambda x: x['mean'] if abs( x[col_name]-x['mean']) >1.5*x['std'] else x[col_name],axis=1)\n",
    "    df.drop(columns=['mean', 'std'],inplace=True)\n",
    "    return df\n",
    "    "
   ]
  },
  {
   "cell_type": "code",
   "execution_count": 24,
   "metadata": {},
   "outputs": [],
   "source": [
    "df=if_outlier(df,'alcohol')\n",
    "df=if_outlier(df,'sulphates')\n",
    "df=if_outlier(df,'citric_acid')\n",
    "df=if_outlier(df,'fixed_acidity')\n",
    "df=if_outlier(df,'density')\n",
    "df=if_outlier(df,'residual_sugar')"
   ]
  },
  {
   "cell_type": "code",
   "execution_count": 25,
   "metadata": {},
   "outputs": [],
   "source": [
    "df.dropna(axis=0, how='any', inplace=True)"
   ]
  },
  {
   "cell_type": "code",
   "execution_count": 26,
   "metadata": {},
   "outputs": [
    {
     "data": {
      "text/plain": [
       "[Text(0,0.5,'Alcohol Percent'),\n",
       " Text(0.5,0,'Wine Quality'),\n",
       " Text(0.5,1,'Alcohol percent in different wine quality types')]"
      ]
     },
     "execution_count": 26,
     "metadata": {},
     "output_type": "execute_result"
    },
    {
     "data": {
      "image/png": "[encoded data removed]",
      "text/plain": [
       "<Figure size 432x288 with 1 Axes>"
      ]
     },
     "metadata": {},
     "output_type": "display_data"
    }
   ],
   "source": [
    "bx = sns.boxplot(x=\"quality\", y='alcohol', data = df)\n",
    "bx.set(xlabel='Wine Quality', ylabel='Alcohol Percent', title='Alcohol percent in different wine quality types')"
   ]
  },
  {
   "cell_type": "code",
   "execution_count": 27,
   "metadata": {},
   "outputs": [
    {
     "data": {
      "text/plain": [
       "[Text(0,0.5,'sulphates'),\n",
       " Text(0.5,0,'Wine Quality'),\n",
       " Text(0.5,1,'sulphates percent in different wine quality types')]"
      ]
     },
     "execution_count": 27,
     "metadata": {},
     "output_type": "execute_result"
    },
    {
     "data": {
      "image/png": "[encoded data removed]",
      "text/plain": [
       "<Figure size 432x288 with 1 Axes>"
      ]
     },
     "metadata": {},
     "output_type": "display_data"
    }
   ],
   "source": [
    "bx = sns.boxplot(x=\"quality\", y='sulphates', data = df)\n",
    "bx.set(xlabel='Wine Quality', ylabel='sulphates', title='sulphates percent in different wine quality types')"
   ]
  },
  {
   "cell_type": "code",
   "execution_count": 28,
   "metadata": {},
   "outputs": [
    {
     "data": {
      "text/plain": [
       "[Text(0,0.5,'citric_acid'),\n",
       " Text(0.5,0,'Wine Quality'),\n",
       " Text(0.5,1,'citric_acid in different wine quality types')]"
      ]
     },
     "execution_count": 28,
     "metadata": {},
     "output_type": "execute_result"
    },
    {
     "data": {
      "image/png": "[encoded data removed]",
      "text/plain": [
       "<Figure size 432x288 with 1 Axes>"
      ]
     },
     "metadata": {},
     "output_type": "display_data"
    }
   ],
   "source": [
    "bx = sns.boxplot(x=\"quality\", y='citric_acid', data = df)\n",
    "bx.set(xlabel='Wine Quality', ylabel='citric_acid', title='citric_acid in different wine quality types')"
   ]
  },
  {
   "cell_type": "code",
   "execution_count": 29,
   "metadata": {},
   "outputs": [
    {
     "data": {
      "text/plain": [
       "[Text(0,0.5,'fixed_acidity'),\n",
       " Text(0.5,0,'Wine Quality'),\n",
       " Text(0.5,1,'fixed_acidity in different wine quality types')]"
      ]
     },
     "execution_count": 29,
     "metadata": {},
     "output_type": "execute_result"
    },
    {
     "data": {
      "image/png": "[encoded data removed]",
      "text/plain": [
       "<Figure size 432x288 with 1 Axes>"
      ]
     },
     "metadata": {},
     "output_type": "display_data"
    }
   ],
   "source": [
    "bx = sns.boxplot(x=\"quality\", y='fixed_acidity', data = df)\n",
    "bx.set(xlabel='Wine Quality', ylabel='fixed_acidity', title='fixed_acidity in different wine quality types')"
   ]
  },
  {
   "cell_type": "code",
   "execution_count": 30,
   "metadata": {
    "scrolled": true
   },
   "outputs": [
    {
     "data": {
      "text/plain": [
       "[Text(0,0.5,'density'),\n",
       " Text(0.5,0,'Wine Quality'),\n",
       " Text(0.5,1,'density in different wine quality types')]"
      ]
     },
     "execution_count": 30,
     "metadata": {},
     "output_type": "execute_result"
    },
    {
     "data": {
      "image/png": "[encoded data removed]",
      "text/plain": [
       "<Figure size 432x288 with 1 Axes>"
      ]
     },
     "metadata": {},
     "output_type": "display_data"
    }
   ],
   "source": [
    "bx = sns.boxplot(x=\"quality\", y='density', data = df)\n",
    "bx.set(xlabel='Wine Quality', ylabel='density', title='density in different wine quality types')"
   ]
  },
  {
   "cell_type": "markdown",
   "metadata": {},
   "source": [
    "## Data Prediction\n",
    "we use columns ['alcohol','sulphates','citric_acid','fixed_acidity','density','residual_sugar'] to do predict."
   ]
  },
  {
   "cell_type": "code",
   "execution_count": 31,
   "metadata": {},
   "outputs": [],
   "source": [
    "from sklearn.model_selection import train_test_split\n",
    "X=df.loc[:,['alcohol','sulphates','citric_acid','fixed_acidity','density','residual_sugar']]\n",
    "y=df['quality']\n",
    "X_train, X_test, y_train, y_test = train_test_split(X,y, random_state=0)\n",
    "# random_state makes your split will be always the same. "
   ]
  },
  {
   "cell_type": "code",
   "execution_count": 32,
   "metadata": {},
   "outputs": [
    {
     "data": {
      "text/plain": [
       "(1128, 6)"
      ]
     },
     "execution_count": 32,
     "metadata": {},
     "output_type": "execute_result"
    }
   ],
   "source": [
    "X_train.shape"
   ]
  },
  {
   "cell_type": "markdown",
   "metadata": {},
   "source": [
    "## KRR"
   ]
  },
  {
   "cell_type": "code",
   "execution_count": 33,
   "metadata": {},
   "outputs": [],
   "source": [
    "from sklearn.neighbors import KNeighborsClassifier"
   ]
  },
  {
   "cell_type": "code",
   "execution_count": 34,
   "metadata": {},
   "outputs": [],
   "source": [
    "clf= KNeighborsClassifier(n_neighbors=3)"
   ]
  },
  {
   "cell_type": "code",
   "execution_count": 35,
   "metadata": {},
   "outputs": [
    {
     "data": {
      "text/plain": [
       "KNeighborsClassifier(algorithm='auto', leaf_size=30, metric='minkowski',\n",
       "           metric_params=None, n_jobs=1, n_neighbors=3, p=2,\n",
       "           weights='uniform')"
      ]
     },
     "execution_count": 35,
     "metadata": {},
     "output_type": "execute_result"
    }
   ],
   "source": [
    "clf.fit(X_train, y_train)"
   ]
  },
  {
   "cell_type": "code",
   "execution_count": 36,
   "metadata": {},
   "outputs": [],
   "source": [
    "y_predict=clf.predict(X_test)"
   ]
  },
  {
   "cell_type": "code",
   "execution_count": 37,
   "metadata": {},
   "outputs": [
    {
     "data": {
      "text/plain": [
       "0.7207446808510638"
      ]
     },
     "execution_count": 37,
     "metadata": {},
     "output_type": "execute_result"
    }
   ],
   "source": [
    "sum(y_predict==y_test)/len(y_test) "
   ]
  },
  {
   "cell_type": "markdown",
   "metadata": {},
   "source": [
    "## SVM"
   ]
  },
  {
   "cell_type": "code",
   "execution_count": 38,
   "metadata": {},
   "outputs": [
    {
     "data": {
      "text/plain": [
       "0.6728723404255319"
      ]
     },
     "execution_count": 38,
     "metadata": {},
     "output_type": "execute_result"
    }
   ],
   "source": [
    "from sklearn import svm\n",
    "clf = svm.SVC(kernel='linear', C=1).fit(X_train, y_train)\n",
    "clf.score(X_test, y_test) "
   ]
  },
  {
   "cell_type": "code",
   "execution_count": 39,
   "metadata": {},
   "outputs": [
    {
     "data": {
      "text/plain": [
       "0.6808510638297872"
      ]
     },
     "execution_count": 39,
     "metadata": {},
     "output_type": "execute_result"
    }
   ],
   "source": [
    "from sklearn import svm\n",
    "clf = svm.SVC(kernel='rbf', C=1).fit(X_train, y_train)\n",
    "clf.score(X_test, y_test) "
   ]
  },
  {
   "cell_type": "code",
   "execution_count": 40,
   "metadata": {},
   "outputs": [
    {
     "data": {
      "text/plain": [
       "0.7047872340425532"
      ]
     },
     "execution_count": 40,
     "metadata": {},
     "output_type": "execute_result"
    }
   ],
   "source": [
    "from sklearn import svm\n",
    "clf = svm.SVC(kernel='poly', C=1).fit(X_train, y_train)\n",
    "clf.score(X_test, y_test) "
   ]
  },
  {
   "cell_type": "markdown",
   "metadata": {},
   "source": [
    "## cross-validated"
   ]
  },
  {
   "cell_type": "code",
   "execution_count": 41,
   "metadata": {},
   "outputs": [],
   "source": [
    "\n",
    "from sklearn.model_selection import cross_val_score\n",
    "from sklearn.model_selection import cross_val_predict\n",
    "from sklearn import metrics\n",
    "\n",
    "clf1_001 = svm.SVC(kernel='rbf', C=1 , gamma=0.01)\n",
    "\n",
    "clf5_001 = svm.SVC(kernel='rbf', C=5,gamma=0.01)\n",
    "\n",
    "clf10_001 = svm.SVC(kernel='rbf', C=10,gamma=0.01)\n",
    "\n",
    "\n",
    "clf1_01 = svm.SVC(kernel='rbf', C=1,gamma=0.1)\n",
    "\n",
    "\n",
    "clf5_01 = svm.SVC(kernel='rbf', C=5,gamma=0.1)\n",
    "\n",
    "clf10_01 = svm.SVC(kernel='rbf', C=10,gamma=0.1)\n",
    "\n",
    "clf1_1 = svm.SVC(kernel='rbf', C=1,gamma=1)\n",
    "\n",
    "clf5_1 = svm.SVC(kernel='rbf', C=5,gamma=1)\n",
    "\n",
    "\n",
    "clf10_1 = svm.SVC(kernel='rbf', C=10,gamma=1)"
   ]
  },
  {
   "cell_type": "code",
   "execution_count": 42,
   "metadata": {},
   "outputs": [
    {
     "name": "stdout",
     "output_type": "stream",
     "text": [
      " cv=10 rbf\n"
     ]
    },
    {
     "name": "stderr",
     "output_type": "stream",
     "text": [
      "D:\\software\\programs\\ANACONDA\\lib\\site-packages\\sklearn\\model_selection\\_split.py:605: Warning: The least populated class in y has only 9 members, which is too few. The minimum number of members in any class cannot be less than n_splits=10.\n",
      "  % (min_groups, self.n_splits)), Warning)\n",
      "D:\\software\\programs\\ANACONDA\\lib\\site-packages\\sklearn\\model_selection\\_split.py:605: Warning: The least populated class in y has only 9 members, which is too few. The minimum number of members in any class cannot be less than n_splits=10.\n",
      "  % (min_groups, self.n_splits)), Warning)\n",
      "D:\\software\\programs\\ANACONDA\\lib\\site-packages\\sklearn\\model_selection\\_split.py:605: Warning: The least populated class in y has only 9 members, which is too few. The minimum number of members in any class cannot be less than n_splits=10.\n",
      "  % (min_groups, self.n_splits)), Warning)\n",
      "D:\\software\\programs\\ANACONDA\\lib\\site-packages\\sklearn\\model_selection\\_split.py:605: Warning: The least populated class in y has only 9 members, which is too few. The minimum number of members in any class cannot be less than n_splits=10.\n",
      "  % (min_groups, self.n_splits)), Warning)\n",
      "D:\\software\\programs\\ANACONDA\\lib\\site-packages\\sklearn\\model_selection\\_split.py:605: Warning: The least populated class in y has only 9 members, which is too few. The minimum number of members in any class cannot be less than n_splits=10.\n",
      "  % (min_groups, self.n_splits)), Warning)\n",
      "D:\\software\\programs\\ANACONDA\\lib\\site-packages\\sklearn\\model_selection\\_split.py:605: Warning: The least populated class in y has only 9 members, which is too few. The minimum number of members in any class cannot be less than n_splits=10.\n",
      "  % (min_groups, self.n_splits)), Warning)\n",
      "D:\\software\\programs\\ANACONDA\\lib\\site-packages\\sklearn\\model_selection\\_split.py:605: Warning: The least populated class in y has only 9 members, which is too few. The minimum number of members in any class cannot be less than n_splits=10.\n",
      "  % (min_groups, self.n_splits)), Warning)\n",
      "D:\\software\\programs\\ANACONDA\\lib\\site-packages\\sklearn\\model_selection\\_split.py:605: Warning: The least populated class in y has only 9 members, which is too few. The minimum number of members in any class cannot be less than n_splits=10.\n",
      "  % (min_groups, self.n_splits)), Warning)\n",
      "D:\\software\\programs\\ANACONDA\\lib\\site-packages\\sklearn\\model_selection\\_split.py:605: Warning: The least populated class in y has only 9 members, which is too few. The minimum number of members in any class cannot be less than n_splits=10.\n",
      "  % (min_groups, self.n_splits)), Warning)\n"
     ]
    },
    {
     "name": "stdout",
     "output_type": "stream",
     "text": [
      "C\\gamma   0.01     0.1       1\n",
      "1.               0.6815295795284106     0.6981210076604959    0.7265915686043394\n",
      "5.               0.6939524849639149     0.694819123606517    0.7337288461489411\n",
      "10              0.7006121546483435     0.707474845196987    0.7356053150225674\n"
     ]
    }
   ],
   "source": [
    "print(\" cv=10 rbf\")\n",
    "\n",
    "scores = cross_val_score(clf1_001,X,y,cv=10)\n",
    "c1=scores.mean()\n",
    "\n",
    "scores = cross_val_score(clf5_001,X,y,cv=10)\n",
    "c4=scores.mean()\n",
    "\n",
    "scores = cross_val_score(clf10_001,X,y,cv=10)\n",
    "c7=scores.mean()\n",
    "\n",
    "\n",
    "scores = cross_val_score(clf1_01,X,y,cv=10)\n",
    "c2=scores.mean()\n",
    "\n",
    "scores = cross_val_score(clf5_01,X,y,cv=10)\n",
    "c5=scores.mean()\n",
    "\n",
    "scores = cross_val_score(clf10_01,X,y,cv=10)\n",
    "c8=scores.mean()\n",
    "\n",
    "\n",
    "scores = cross_val_score(clf1_1,X,y,cv=10)\n",
    "c3=scores.mean()\n",
    "\n",
    "scores = cross_val_score(clf5_1,X,y,cv=10)\n",
    "c6=scores.mean()\n",
    "\n",
    "scores = cross_val_score(clf10_1,X,y,cv=10)\n",
    "c9=scores.mean()\n",
    "\n",
    "print('C\\gamma   0.01     0.1       1')\n",
    "print('1.              ',c1,'   ',c2,'  ',c3)\n",
    "print('5.              ',c4,'   ',c5,'  ',c6)\n",
    "print('10             ',c7,'   ',c8,'  ',c9)"
   ]
  },
  {
   "cell_type": "code",
   "execution_count": null,
   "metadata": {},
   "outputs": [],
   "source": []
  },
  {
   "cell_type": "code",
   "execution_count": null,
   "metadata": {},
   "outputs": [],
   "source": []
  },
  {
   "cell_type": "code",
   "execution_count": null,
   "metadata": {},
   "outputs": [],
   "source": []
  }
 ],
 "metadata": {
  "kernelspec": {
   "display_name": "Python 3",
   "language": "python",
   "name": "python3"
  },
  "language_info": {
   "codemirror_mode": {
    "name": "ipython",
    "version": 3
   },
   "file_extension": ".py",
   "mimetype": "text/x-python",
   "name": "python",
   "nbconvert_exporter": "python",
   "pygments_lexer": "ipython3",
   "version": "3.6.5"
  }
 },
 "nbformat": 4,
 "nbformat_minor": 2
}
